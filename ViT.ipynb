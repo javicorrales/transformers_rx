{
 "cells": [
  {
   "cell_type": "markdown",
   "metadata": {
    "id": "Cik1vKgt0-Uy"
   },
   "source": [
    "El conjunto de datos que vamos a usar corresponde al dataset de kaagle : DAta Breast Cancer. Son xxxx imagenes radiológicas clasificadas.......\n",
    "\n",
    "Para la descarga vamos a hacer uso de la API de Kaagle, para poder reutilizar este notebook es necesario estar dado de alto en Kaagle y poder descargarse un token."
   ]
  },
  {
   "cell_type": "markdown",
   "metadata": {
    "id": "pi3Iw90LZxBS"
   },
   "source": [
    "### **Imports**"
   ]
  },
  {
   "cell_type": "code",
   "execution_count": 1,
   "metadata": {
    "colab": {
     "base_uri": "https://localhost:8080/"
    },
    "id": "iNAN07MP1khW",
    "outputId": "c34703fb-25ea-4507-f406-8f91e18c1985",
    "scrolled": true
   },
   "outputs": [
    {
     "name": "stdout",
     "output_type": "stream",
     "text": [
      "Requirement already satisfied: keras in /home/fjcorrales/anaconda3/lib/python3.8/site-packages (2.11.0)\n",
      "Requirement already satisfied: tensorflow in /home/fjcorrales/anaconda3/lib/python3.8/site-packages (2.11.0)\n",
      "Requirement already satisfied: tensorflow-io-gcs-filesystem>=0.23.1 in /home/fjcorrales/anaconda3/lib/python3.8/site-packages (from tensorflow) (0.29.0)\n",
      "Requirement already satisfied: h5py>=2.9.0 in /home/fjcorrales/anaconda3/lib/python3.8/site-packages (from tensorflow) (2.10.0)\n",
      "Requirement already satisfied: protobuf<3.20,>=3.9.2 in /home/fjcorrales/anaconda3/lib/python3.8/site-packages (from tensorflow) (3.19.6)\n",
      "Requirement already satisfied: tensorflow-estimator<2.12,>=2.11.0 in /home/fjcorrales/anaconda3/lib/python3.8/site-packages (from tensorflow) (2.11.0)\n",
      "Requirement already satisfied: typing-extensions>=3.6.6 in /home/fjcorrales/anaconda3/lib/python3.8/site-packages (from tensorflow) (3.7.4.3)\n",
      "Requirement already satisfied: six>=1.12.0 in /home/fjcorrales/anaconda3/lib/python3.8/site-packages (from tensorflow) (1.15.0)\n",
      "Requirement already satisfied: astunparse>=1.6.0 in /home/fjcorrales/anaconda3/lib/python3.8/site-packages (from tensorflow) (1.6.3)\n",
      "Requirement already satisfied: google-pasta>=0.1.1 in /home/fjcorrales/anaconda3/lib/python3.8/site-packages (from tensorflow) (0.2.0)\n",
      "Requirement already satisfied: flatbuffers>=2.0 in /home/fjcorrales/anaconda3/lib/python3.8/site-packages (from tensorflow) (22.12.6)\n",
      "Requirement already satisfied: wrapt>=1.11.0 in /home/fjcorrales/anaconda3/lib/python3.8/site-packages (from tensorflow) (1.12.1)\n",
      "Requirement already satisfied: keras<2.12,>=2.11.0 in /home/fjcorrales/anaconda3/lib/python3.8/site-packages (from tensorflow) (2.11.0)\n",
      "Requirement already satisfied: tensorboard<2.12,>=2.11 in /home/fjcorrales/anaconda3/lib/python3.8/site-packages (from tensorflow) (2.11.0)\n",
      "Requirement already satisfied: packaging in /home/fjcorrales/anaconda3/lib/python3.8/site-packages (from tensorflow) (20.9)\n",
      "Requirement already satisfied: termcolor>=1.1.0 in /home/fjcorrales/anaconda3/lib/python3.8/site-packages (from tensorflow) (2.1.1)\n",
      "Requirement already satisfied: opt-einsum>=2.3.2 in /home/fjcorrales/anaconda3/lib/python3.8/site-packages (from tensorflow) (3.3.0)\n",
      "Requirement already satisfied: setuptools in /home/fjcorrales/anaconda3/lib/python3.8/site-packages (from tensorflow) (52.0.0.post20210125)\n",
      "Requirement already satisfied: numpy>=1.20 in /home/fjcorrales/anaconda3/lib/python3.8/site-packages (from tensorflow) (1.20.1)\n",
      "Requirement already satisfied: absl-py>=1.0.0 in /home/fjcorrales/anaconda3/lib/python3.8/site-packages (from tensorflow) (1.3.0)\n",
      "Requirement already satisfied: grpcio<2.0,>=1.24.3 in /home/fjcorrales/anaconda3/lib/python3.8/site-packages (from tensorflow) (1.51.1)\n",
      "Requirement already satisfied: gast<=0.4.0,>=0.2.1 in /home/fjcorrales/anaconda3/lib/python3.8/site-packages (from tensorflow) (0.4.0)\n",
      "Requirement already satisfied: libclang>=13.0.0 in /home/fjcorrales/anaconda3/lib/python3.8/site-packages (from tensorflow) (14.0.6)\n",
      "Requirement already satisfied: wheel<1.0,>=0.23.0 in /home/fjcorrales/anaconda3/lib/python3.8/site-packages (from astunparse>=1.6.0->tensorflow) (0.36.2)\n",
      "Requirement already satisfied: markdown>=2.6.8 in /home/fjcorrales/anaconda3/lib/python3.8/site-packages (from tensorboard<2.12,>=2.11->tensorflow) (3.4.1)\n",
      "Requirement already satisfied: tensorboard-data-server<0.7.0,>=0.6.0 in /home/fjcorrales/anaconda3/lib/python3.8/site-packages (from tensorboard<2.12,>=2.11->tensorflow) (0.6.1)\n",
      "Requirement already satisfied: tensorboard-plugin-wit>=1.6.0 in /home/fjcorrales/anaconda3/lib/python3.8/site-packages (from tensorboard<2.12,>=2.11->tensorflow) (1.8.1)\n",
      "Requirement already satisfied: google-auth<3,>=1.6.3 in /home/fjcorrales/anaconda3/lib/python3.8/site-packages (from tensorboard<2.12,>=2.11->tensorflow) (2.15.0)\n",
      "Requirement already satisfied: werkzeug>=1.0.1 in /home/fjcorrales/anaconda3/lib/python3.8/site-packages (from tensorboard<2.12,>=2.11->tensorflow) (1.0.1)\n",
      "Requirement already satisfied: google-auth-oauthlib<0.5,>=0.4.1 in /home/fjcorrales/anaconda3/lib/python3.8/site-packages (from tensorboard<2.12,>=2.11->tensorflow) (0.4.6)\n",
      "Requirement already satisfied: requests<3,>=2.21.0 in /home/fjcorrales/anaconda3/lib/python3.8/site-packages (from tensorboard<2.12,>=2.11->tensorflow) (2.25.1)\n",
      "Requirement already satisfied: cachetools<6.0,>=2.0.0 in /home/fjcorrales/anaconda3/lib/python3.8/site-packages (from google-auth<3,>=1.6.3->tensorboard<2.12,>=2.11->tensorflow) (5.2.0)\n",
      "Requirement already satisfied: rsa<5,>=3.1.4 in /home/fjcorrales/anaconda3/lib/python3.8/site-packages (from google-auth<3,>=1.6.3->tensorboard<2.12,>=2.11->tensorflow) (4.9)\n",
      "Requirement already satisfied: pyasn1-modules>=0.2.1 in /home/fjcorrales/anaconda3/lib/python3.8/site-packages (from google-auth<3,>=1.6.3->tensorboard<2.12,>=2.11->tensorflow) (0.2.8)\n",
      "Requirement already satisfied: requests-oauthlib>=0.7.0 in /home/fjcorrales/anaconda3/lib/python3.8/site-packages (from google-auth-oauthlib<0.5,>=0.4.1->tensorboard<2.12,>=2.11->tensorflow) (1.3.0)\n",
      "Requirement already satisfied: importlib-metadata>=4.4 in /home/fjcorrales/anaconda3/lib/python3.8/site-packages (from markdown>=2.6.8->tensorboard<2.12,>=2.11->tensorflow) (5.2.0)\n",
      "Requirement already satisfied: zipp>=0.5 in /home/fjcorrales/anaconda3/lib/python3.8/site-packages (from importlib-metadata>=4.4->markdown>=2.6.8->tensorboard<2.12,>=2.11->tensorflow) (3.4.1)\n",
      "Requirement already satisfied: pyasn1<0.5.0,>=0.4.6 in /home/fjcorrales/anaconda3/lib/python3.8/site-packages (from pyasn1-modules>=0.2.1->google-auth<3,>=1.6.3->tensorboard<2.12,>=2.11->tensorflow) (0.4.8)\n",
      "Requirement already satisfied: idna<3,>=2.5 in /home/fjcorrales/anaconda3/lib/python3.8/site-packages (from requests<3,>=2.21.0->tensorboard<2.12,>=2.11->tensorflow) (2.10)\n",
      "Requirement already satisfied: certifi>=2017.4.17 in /home/fjcorrales/anaconda3/lib/python3.8/site-packages (from requests<3,>=2.21.0->tensorboard<2.12,>=2.11->tensorflow) (2020.12.5)\n",
      "Requirement already satisfied: urllib3<1.27,>=1.21.1 in /home/fjcorrales/anaconda3/lib/python3.8/site-packages (from requests<3,>=2.21.0->tensorboard<2.12,>=2.11->tensorflow) (1.26.4)\n",
      "Requirement already satisfied: chardet<5,>=3.0.2 in /home/fjcorrales/anaconda3/lib/python3.8/site-packages (from requests<3,>=2.21.0->tensorboard<2.12,>=2.11->tensorflow) (4.0.0)\n",
      "Requirement already satisfied: oauthlib>=3.0.0 in /home/fjcorrales/anaconda3/lib/python3.8/site-packages (from requests-oauthlib>=0.7.0->google-auth-oauthlib<0.5,>=0.4.1->tensorboard<2.12,>=2.11->tensorflow) (3.1.1)\n",
      "Requirement already satisfied: pyparsing>=2.0.2 in /home/fjcorrales/anaconda3/lib/python3.8/site-packages (from packaging->tensorflow) (2.4.7)\n",
      "Requirement already satisfied: tensorflow-addons in /home/fjcorrales/anaconda3/lib/python3.8/site-packages (0.19.0)\n",
      "Requirement already satisfied: typeguard>=2.7 in /home/fjcorrales/anaconda3/lib/python3.8/site-packages (from tensorflow-addons) (2.13.3)\n",
      "Requirement already satisfied: packaging in /home/fjcorrales/anaconda3/lib/python3.8/site-packages (from tensorflow-addons) (20.9)\n",
      "Requirement already satisfied: pyparsing>=2.0.2 in /home/fjcorrales/anaconda3/lib/python3.8/site-packages (from packaging->tensorflow-addons) (2.4.7)\n"
     ]
    }
   ],
   "source": [
    "! pip install keras \n",
    "! pip install tensorflow\n",
    "! pip install tensorflow-addons"
   ]
  },
  {
   "cell_type": "code",
   "execution_count": 2,
   "metadata": {
    "id": "IZfBSIJQ2c7t"
   },
   "outputs": [],
   "source": [
    "#from google.colab import files\n",
    "#from google.colab import drive\n",
    "#from glob import glob\n",
    "\n",
    "\n",
    "# comunes\n",
    "import os\n",
    "import keras\n",
    "import numpy as np\n",
    "import pandas as pd\n",
    "import random\n",
    "import cv2\n",
    "import tensorflow as tf\n",
    "import tensorflow.image as tfi\n",
    "import tensorflow_addons as tfa\n",
    "\n",
    "\n",
    "from tqdm import tqdm\n",
    "from mpl_toolkits.axes_grid1 import ImageGrid\n",
    "\n",
    "# Data\n",
    "from tensorflow.keras.utils import load_img,img_to_array\n",
    "#from keras.preprocessing.image import load_img, img_to_array\n",
    "from tensorflow.keras.utils import to_categorical\n",
    "from tensorflow.keras import layers\n",
    "\n",
    "# Data Viz\n",
    "import matplotlib.pyplot as plt\n",
    "import seaborn as sns"
   ]
  },
  {
   "cell_type": "markdown",
   "metadata": {
    "id": "d-T_VzlDaC0H"
   },
   "source": [
    "### **Funciones y constantes**"
   ]
  },
  {
   "cell_type": "markdown",
   "metadata": {
    "id": "gDldkLeacfUE"
   },
   "source": [
    "Activamos la unidad de drive para usarla en Colab y no tener que efectuar todos los pasos anteriores de descarga y descompresión cada vez"
   ]
  },
  {
   "cell_type": "code",
   "execution_count": 3,
   "metadata": {
    "colab": {
     "base_uri": "https://localhost:8080/"
    },
    "id": "IAGvxTNvcX3f",
    "outputId": "55236ca0-5071-44a2-b56d-439178ceb795"
   },
   "outputs": [],
   "source": [
    "#drive.mount('/content/drive/')"
   ]
  },
  {
   "cell_type": "code",
   "execution_count": 4,
   "metadata": {
    "colab": {
     "base_uri": "https://localhost:8080/"
    },
    "id": "YpddHEa4-7ya",
    "outputId": "b31c0691-bf31-491e-9e97-1017aa347bad"
   },
   "outputs": [],
   "source": [
    "#google colab\n",
    "#dataset_dir = '/content/drive/My Drive/Colab Notebooks/db/cbis-ddsm'\n",
    "\n",
    "#local\n",
    "dataset_dir = '/home/fjcorrales/Master Ciencia de datos/TFM/dataset/archive'\n",
    "\n",
    "#Cargamos los datasets\n",
    "\n",
    "df = pd.read_csv(dataset_dir + '/dicom.csv')\n",
    "df_calc_train = pd.read_csv(dataset_dir + '/calc_train.csv')\n",
    "df_calc_test = pd.read_csv(dataset_dir + '/calc_test.csv')\n",
    "df_mass_train = pd.read_csv(dataset_dir + '/mass_train.csv')\n",
    "df_mass_test = pd.read_csv(dataset_dir + '/mass_test.csv')\n",
    "\n",
    "\n",
    "# Mass y calc train\n",
    "X_train = []\n",
    "y_train = []\n",
    "\n",
    "for i in range(len(df_mass_train)):\n",
    "    img_cropped = cv2.imread(df_mass_train.loc[i, 'cropped_image_path'],cv2.IMREAD_COLOR)\n",
    "    n_img_size = cv2.resize(img_cropped, (256, 256), interpolation = cv2.INTER_LINEAR)\n",
    "    X_train.append(n_img_size)\n",
    "    if df_mass_train.loc[i, 'pathology']=='BENIGN':\n",
    "      y_train.append(0)\n",
    "    else:\n",
    "      y_train.append(1)\n",
    "\n",
    "for i in range(len(df_calc_train)):\n",
    "    img_cropped = cv2.imread(df_calc_train.loc[i, 'cropped_image_path'],cv2.IMREAD_COLOR)\n",
    "    n_img_size = cv2.resize(img_cropped, (256, 256), interpolation = cv2.INTER_LINEAR)\n",
    "    X_train.append(n_img_size)\n",
    "    if df_calc_train.loc[i, 'pathology']=='BENIGN':\n",
    "      y_train.append(0)\n",
    "    else:\n",
    "      y_train.append(1)\n",
    "\n",
    "\n",
    "# Mass y calc  test\n",
    "X_test = []\n",
    "y_test = []\n",
    "\n",
    "for i in range(len(df_mass_test)):\n",
    "    img_cropped = cv2.imread(df_mass_test.loc[i, 'cropped_image_path'],cv2.IMREAD_COLOR)\n",
    "    n_img_size = cv2.resize(img_cropped, (256, 256), interpolation = cv2.INTER_LINEAR)\n",
    "    X_test.append(n_img_size)\n",
    "    if df_mass_test.loc[i, 'pathology']=='BENIGN':\n",
    "      y_test.append(0)\n",
    "    else:\n",
    "      y_test.append(1)\n",
    "\n",
    "for i in range(len(df_calc_test)):\n",
    "    img_cropped = cv2.imread(df_calc_test.loc[i, 'cropped_image_path'],cv2.IMREAD_COLOR)\n",
    "    n_img_size = cv2.resize(img_cropped, (256, 256), interpolation = cv2.INTER_LINEAR)\n",
    "    X_test.append(n_img_size)\n",
    "    if df_calc_test.loc[i, 'pathology']=='BENIGN':\n",
    "      y_test.append(0)\n",
    "    else:\n",
    "      y_test.append(1)\n",
    "\n",
    "\n",
    "\n",
    "\n"
   ]
  },
  {
   "cell_type": "code",
   "execution_count": 5,
   "metadata": {
    "id": "xqUfh7VFycjg"
   },
   "outputs": [
    {
     "name": "stdout",
     "output_type": "stream",
     "text": [
      "x_train shape: (2862, 256, 256, 3) - y_train shape: (2862, 1)\n",
      "x_test shape: (704, 256, 256, 3) - y_test shape: (704, 1)\n"
     ]
    }
   ],
   "source": [
    "\n",
    "X_train = np.array(X_train)\n",
    "y_train = np.array(y_train)\n",
    "\n",
    "X_test = np.array(X_test)\n",
    "y_test = np.array(y_test)\n",
    "\n",
    "\n",
    "X_train = X_train/255\n",
    "X_test  = X_test/255\n",
    "\n",
    "y_train.resize(y_train.shape[0],1)\n",
    "y_test.resize(y_test.shape[0],1)\n",
    "\n",
    "\n",
    "\n",
    "print(f\"x_train shape: {X_train.shape} - y_train shape: {y_train.shape}\")\n",
    "print(f\"x_test shape: {X_test.shape} - y_test shape: {y_test.shape}\")\n",
    "\n",
    "#y_train_calc = to_categorical(y_train_calc, 2)\n",
    "#y_test_calc = to_categorical(y_test_calc, 2)\n",
    "\n"
   ]
  },
  {
   "cell_type": "markdown",
   "metadata": {
    "id": "REBPQz4Y1Nhi"
   },
   "source": [
    "# Configuramos los hiperparametros del modelo ViT"
   ]
  },
  {
   "cell_type": "code",
   "execution_count": 6,
   "metadata": {
    "id": "2Rm5Vcpt1Nhk"
   },
   "outputs": [],
   "source": [
    "learning_rate = 0.001\n",
    "weight_decay = 0.0001\n",
    "batch_size = 256\n",
    "num_epochs = 50\n",
    "image_size = 256  # We'll resize input images to this size\n",
    "patch_size = 32  # Size of the patches to be extract from the input images\n",
    "num_patches = (image_size // patch_size) ** 2\n",
    "projection_dim = 64\n",
    "num_heads = 4\n",
    "transformer_units = [\n",
    "    projection_dim * 2,\n",
    "    projection_dim,\n",
    "]  # Size of the transformer layers\n",
    "transformer_layers = 8\n",
    "mlp_head_units = [2048, 1024]  # Size of the dense layers of the final classifier\n",
    "\n",
    "num_classes = 2\n",
    "input_shape = (256, 256, 3)"
   ]
  },
  {
   "cell_type": "markdown",
   "metadata": {
    "id": "VWDKM5uM1Nhk"
   },
   "source": [
    "# Usamos data augmentation"
   ]
  },
  {
   "cell_type": "code",
   "execution_count": 7,
   "metadata": {
    "id": "j6dyRUHd1Nhl"
   },
   "outputs": [],
   "source": [
    "data_augmentation = keras.Sequential(\n",
    "    [\n",
    "        layers.Normalization(),\n",
    "        layers.Resizing(image_size, image_size),\n",
    "        layers.RandomFlip(\"horizontal\"),         \n",
    "        layers.RandomBrightness(0.1, value_range=(0.0, 1.0)),\n",
    "        layers.RandomRotation(factor=0.02),\n",
    "        layers.RandomZoom(\n",
    "            height_factor=0.2, width_factor=0.2\n",
    "        ),\n",
    "    ],\n",
    "    name=\"data_augmentation\",\n",
    ")\n",
    "# Compute the mean and the variance of the training data for normalization.\n",
    "data_augmentation.layers[0].adapt(X_train)"
   ]
  },
  {
   "cell_type": "code",
   "execution_count": null,
   "metadata": {
    "id": "QMFm5NgL1Nhl"
   },
   "outputs": [],
   "source": []
  },
  {
   "cell_type": "markdown",
   "metadata": {
    "id": "uO5JrDJV1Nhm"
   },
   "source": [
    "# Implementamos multilayer perceptron (MLP)"
   ]
  },
  {
   "cell_type": "code",
   "execution_count": 8,
   "metadata": {
    "id": "Hc5iuQK01Nhm"
   },
   "outputs": [],
   "source": [
    "def mlp(x, hidden_units, dropout_rate):\n",
    "    for units in hidden_units:\n",
    "        x = layers.Dense(units, activation=tf.nn.gelu)(x)\n",
    "        x = layers.Dropout(dropout_rate)(x)\n",
    "    return x\n"
   ]
  },
  {
   "cell_type": "markdown",
   "metadata": {
    "id": "o_tfdHr_1Nhm"
   },
   "source": [
    "# Implementamos la creacion de patches como una capa"
   ]
  },
  {
   "cell_type": "code",
   "execution_count": 9,
   "metadata": {
    "id": "pyxyGXbR1Nhn"
   },
   "outputs": [],
   "source": [
    "\n",
    "class Patches(layers.Layer):\n",
    "    def __init__(self, patch_size):\n",
    "        super(Patches, self).__init__()\n",
    "        self.patch_size = patch_size\n",
    "\n",
    "    def call(self, images):\n",
    "        batch_size = tf.shape(images)[0]\n",
    "        patches = tf.image.extract_patches(\n",
    "            images=images,\n",
    "            sizes=[1, self.patch_size, self.patch_size, 1],\n",
    "            strides=[1, self.patch_size, self.patch_size, 1],\n",
    "            rates=[1, 1, 1, 1],\n",
    "            padding=\"VALID\",\n",
    "        )\n",
    "        patch_dims = patches.shape[-1]\n",
    "        patches = tf.reshape(patches, [batch_size, -1, patch_dims])\n",
    "        return patches"
   ]
  },
  {
   "cell_type": "markdown",
   "metadata": {
    "id": "gBDHni4i1Nhn"
   },
   "source": [
    "Probamos como se ven los patches con una imagen"
   ]
  },
  {
   "cell_type": "code",
   "execution_count": 10,
   "metadata": {
    "id": "aUFTHCHE1Nhn"
   },
   "outputs": [
    {
     "name": "stdout",
     "output_type": "stream",
     "text": [
      "Image size: 256 X 256\n",
      "Patch size: 32 X 32\n",
      "Patches per image: 64\n",
      "Elements per patch: 3072\n"
     ]
    },
    {
     "data": {
      "image/png": "[encoded data removed]",
      "text/plain": [
       "<Figure size 288x288 with 1 Axes>"
      ]
     },
     "metadata": {
      "needs_background": "light"
     },
     "output_type": "display_data"
    },
    {
     "data": {
      "image/png": "[encoded data removed]",
      "text/plain": [
       "<Figure size 288x288 with 64 Axes>"
      ]
     },
     "metadata": {
      "needs_background": "light"
     },
     "output_type": "display_data"
    }
   ],
   "source": [
    "plt.figure(figsize=(4, 4))\n",
    "image = X_train[np.random.choice(range(X_train.shape[0]))]\n",
    "plt.imshow(image)\n",
    "plt.axis(\"off\")\n",
    "\n",
    "resized_image = tf.image.resize(\n",
    "    tf.convert_to_tensor([image]), size=(image_size, image_size)\n",
    ")\n",
    "patches = Patches(patch_size)(resized_image)\n",
    "print(f\"Image size: {image_size} X {image_size}\")\n",
    "print(f\"Patch size: {patch_size} X {patch_size}\")\n",
    "print(f\"Patches per image: {patches.shape[1]}\")\n",
    "print(f\"Elements per patch: {patches.shape[-1]}\")\n",
    "\n",
    "n = int(np.sqrt(patches.shape[1]))\n",
    "plt.figure(figsize=(4, 4))\n",
    "for i, patch in enumerate(patches[0]):\n",
    "    ax = plt.subplot(n, n, i + 1)\n",
    "    patch_img = tf.reshape(patch, (patch_size, patch_size, 3))\n",
    "    plt.imshow(patch_img.numpy())\n",
    "    plt.axis(\"off\")"
   ]
  },
  {
   "cell_type": "markdown",
   "metadata": {
    "id": "KvxyDfgq1Nho"
   },
   "source": [
    "# Implementamos la capa de encoding\n",
    "\n",
    "La capa PatchEncoder transformará linealmente un parche al proyectarlo en un vector de tamaño projection_dim. Además, agrega una posición de aprendizaje incrustada en el vector proyectado."
   ]
  },
  {
   "cell_type": "code",
   "execution_count": 11,
   "metadata": {
    "id": "AG6JIcHW1Nho"
   },
   "outputs": [],
   "source": [
    "class PatchEncoder(layers.Layer):\n",
    "    def __init__(self, num_patches, projection_dim):\n",
    "        super(PatchEncoder, self).__init__()\n",
    "        self.num_patches = num_patches\n",
    "        self.projection = layers.Dense(units=projection_dim)\n",
    "        self.position_embedding = layers.Embedding(\n",
    "            input_dim=num_patches, output_dim=projection_dim\n",
    "        )\n",
    "\n",
    "    def call(self, patch):\n",
    "        positions = tf.range(start=0, limit=self.num_patches, delta=1)\n",
    "        encoded = self.projection(patch) + self.position_embedding(positions)\n",
    "        return encoded"
   ]
  },
  {
   "cell_type": "markdown",
   "metadata": {
    "id": "PgMOX5CD1Nho"
   },
   "source": [
    "# Construimos el model Vision Transformer (ViT)\n",
    "El modelo ViT consta de varios bloques Transformer, que utilizan la capa Layers.MultiHeadAttention como mecanismo de autoatención aplicado a la secuencia de parches. Los bloques Transformer producen un tensor [batch_size, num_patches,projection_dim], que se procesa a través de un cabezal clasificador con softmax para producir la salida final de probabilidades de clase.\n",
    "\n",
    "A diferencia de la técnica descrita en el documento, que antepone una incrustación aprendible a la secuencia de parches codificados para que sirva como representación de la imagen, todas las salidas del bloque Transformer final se remodelan con capas.Flatten() y se utilizan como entrada de representación de imagen para la cabeza del clasificador. Tenga en cuenta que la capa Layers.GlobalAveragePooling1D también podría usarse para agregar las salidas del bloque Transformer, especialmente cuando la cantidad de parches y las dimensiones de la proyección son grandes.\n",
    "Compilar, entrenar y evaluar el modo."
   ]
  },
  {
   "cell_type": "code",
   "execution_count": 12,
   "metadata": {
    "id": "RbyQMlOU1Nho"
   },
   "outputs": [],
   "source": [
    "def create_vit_classifier():\n",
    "    inputs = layers.Input(shape=input_shape)\n",
    "    # Augment data.\n",
    "    augmented = data_augmentation(inputs)\n",
    "    # Create patches.\n",
    "    patches = Patches(patch_size)(augmented)\n",
    "    # Encode patches.\n",
    "    encoded_patches = PatchEncoder(num_patches, projection_dim)(patches)\n",
    "\n",
    "    # Create multiple layers of the Transformer block.\n",
    "    for _ in range(transformer_layers):\n",
    "        # Layer normalization 1.\n",
    "        x1 = layers.LayerNormalization(epsilon=1e-6)(encoded_patches)\n",
    "        # Create a multi-head attention layer.\n",
    "        attention_output = layers.MultiHeadAttention(\n",
    "            num_heads=num_heads, key_dim=projection_dim, dropout=0.1\n",
    "        )(x1, x1)\n",
    "        # Skip connection 1.\n",
    "        x2 = layers.Add()([attention_output, encoded_patches])\n",
    "        # Layer normalization 2.\n",
    "        x3 = layers.LayerNormalization(epsilon=1e-6)(x2)\n",
    "        # MLP.\n",
    "        x3 = mlp(x3, hidden_units=transformer_units, dropout_rate=0.1)\n",
    "        # Skip connection 2.\n",
    "        encoded_patches = layers.Add()([x3, x2])\n",
    "\n",
    "    # Create a [batch_size, projection_dim] tensor.\n",
    "    representation = layers.LayerNormalization(epsilon=1e-6)(encoded_patches)\n",
    "    representation = layers.Flatten()(representation)\n",
    "    representation = layers.Dropout(0.5)(representation)\n",
    "    # Add MLP.\n",
    "    features = mlp(representation, hidden_units=mlp_head_units, dropout_rate=0.5)\n",
    "    # Classify outputs.\n",
    "    logits = layers.Dense(num_classes)(features)\n",
    "    # Create the Keras model.\n",
    "    model = keras.Model(inputs=inputs, outputs=logits)\n",
    "    return model\n"
   ]
  },
  {
   "cell_type": "markdown",
   "metadata": {
    "id": "sgYHW3FG1Nhp"
   },
   "source": [
    "# Compilamos, entrenamos y evaluamos el modelo"
   ]
  },
  {
   "cell_type": "code",
   "execution_count": 13,
   "metadata": {
    "id": "UiN5mYSR1Nhp"
   },
   "outputs": [
    {
     "name": "stdout",
     "output_type": "stream",
     "text": [
      "WARNING:tensorflow:Using a while_loop for converting RngReadAndSkip cause there is no registered converter for this op.\n",
      "WARNING:tensorflow:Using a while_loop for converting Bitcast cause there is no registered converter for this op.\n",
      "WARNING:tensorflow:Using a while_loop for converting Bitcast cause there is no registered converter for this op.\n",
      "WARNING:tensorflow:Using a while_loop for converting StatelessRandomUniformV2 cause there is no registered converter for this op.\n",
      "WARNING:tensorflow:Using a while_loop for converting RngReadAndSkip cause there is no registered converter for this op.\n",
      "WARNING:tensorflow:Using a while_loop for converting Bitcast cause there is no registered converter for this op.\n",
      "WARNING:tensorflow:Using a while_loop for converting Bitcast cause there is no registered converter for this op.\n",
      "WARNING:tensorflow:Using a while_loop for converting StatelessRandomUniformV2 cause there is no registered converter for this op.\n",
      "WARNING:tensorflow:Using a while_loop for converting ImageProjectiveTransformV3 cause there is no registered converter for this op.\n",
      "WARNING:tensorflow:Using a while_loop for converting RngReadAndSkip cause there is no registered converter for this op.\n",
      "WARNING:tensorflow:Using a while_loop for converting Bitcast cause there is no registered converter for this op.\n",
      "WARNING:tensorflow:Using a while_loop for converting Bitcast cause there is no registered converter for this op.\n",
      "WARNING:tensorflow:Using a while_loop for converting StatelessRandomUniformV2 cause there is no registered converter for this op.\n",
      "WARNING:tensorflow:Using a while_loop for converting RngReadAndSkip cause there is no registered converter for this op.\n",
      "WARNING:tensorflow:Using a while_loop for converting Bitcast cause there is no registered converter for this op.\n",
      "WARNING:tensorflow:Using a while_loop for converting Bitcast cause there is no registered converter for this op.\n",
      "WARNING:tensorflow:Using a while_loop for converting StatelessRandomUniformV2 cause there is no registered converter for this op.\n",
      "WARNING:tensorflow:Using a while_loop for converting ImageProjectiveTransformV3 cause there is no registered converter for this op.\n",
      "WARNING:tensorflow:Using a while_loop for converting RngReadAndSkip cause there is no registered converter for this op.\n",
      "WARNING:tensorflow:Using a while_loop for converting Bitcast cause there is no registered converter for this op.\n",
      "WARNING:tensorflow:Using a while_loop for converting Bitcast cause there is no registered converter for this op.\n",
      "WARNING:tensorflow:Using a while_loop for converting StatelessRandomUniformV2 cause there is no registered converter for this op.\n",
      "WARNING:tensorflow:Using a while_loop for converting RngReadAndSkip cause there is no registered converter for this op.\n",
      "WARNING:tensorflow:Using a while_loop for converting Bitcast cause there is no registered converter for this op.\n",
      "WARNING:tensorflow:Using a while_loop for converting Bitcast cause there is no registered converter for this op.\n",
      "WARNING:tensorflow:Using a while_loop for converting StatelessRandomUniformV2 cause there is no registered converter for this op.\n",
      "WARNING:tensorflow:Using a while_loop for converting ImageProjectiveTransformV3 cause there is no registered converter for this op.\n",
      "WARNING:tensorflow:Using a while_loop for converting RngReadAndSkip cause there is no registered converter for this op.\n",
      "WARNING:tensorflow:Using a while_loop for converting Bitcast cause there is no registered converter for this op.\n",
      "WARNING:tensorflow:Using a while_loop for converting Bitcast cause there is no registered converter for this op.\n",
      "WARNING:tensorflow:Using a while_loop for converting StatelessRandomUniformV2 cause there is no registered converter for this op.\n",
      "WARNING:tensorflow:Using a while_loop for converting RngReadAndSkip cause there is no registered converter for this op.\n",
      "WARNING:tensorflow:Using a while_loop for converting Bitcast cause there is no registered converter for this op.\n",
      "WARNING:tensorflow:Using a while_loop for converting Bitcast cause there is no registered converter for this op.\n",
      "WARNING:tensorflow:Using a while_loop for converting StatelessRandomUniformV2 cause there is no registered converter for this op.\n",
      "WARNING:tensorflow:Using a while_loop for converting ImageProjectiveTransformV3 cause there is no registered converter for this op.\n",
      "Model: \"model\"\n",
      "__________________________________________________________________________________________________\n",
      " Layer (type)                   Output Shape         Param #     Connected to                     \n",
      "==================================================================================================\n",
      " input_1 (InputLayer)           [(None, 256, 256, 3  0           []                               \n",
      "                                )]                                                                \n",
      "                                                                                                  \n",
      " data_augmentation (Sequential)  (None, 256, 256, 3)  7          ['input_1[0][0]']                \n",
      "                                                                                                  \n",
      " patches_1 (Patches)            (None, None, 3072)   0           ['data_augmentation[0][0]']      \n",
      "                                                                                                  \n",
      " patch_encoder (PatchEncoder)   (None, 64, 64)       200768      ['patches_1[0][0]']              \n",
      "                                                                                                  \n",
      " layer_normalization (LayerNorm  (None, 64, 64)      128         ['patch_encoder[0][0]']          \n",
      " alization)                                                                                       \n",
      "                                                                                                  \n",
      " multi_head_attention (MultiHea  (None, 64, 64)      66368       ['layer_normalization[0][0]',    \n",
      " dAttention)                                                      'layer_normalization[0][0]']    \n",
      "                                                                                                  \n",
      " add (Add)                      (None, 64, 64)       0           ['multi_head_attention[0][0]',   \n",
      "                                                                  'patch_encoder[0][0]']          \n",
      "                                                                                                  \n",
      " layer_normalization_1 (LayerNo  (None, 64, 64)      128         ['add[0][0]']                    \n",
      " rmalization)                                                                                     \n",
      "                                                                                                  \n",
      " dense_1 (Dense)                (None, 64, 128)      8320        ['layer_normalization_1[0][0]']  \n",
      "                                                                                                  \n",
      " dropout (Dropout)              (None, 64, 128)      0           ['dense_1[0][0]']                \n",
      "                                                                                                  \n",
      " dense_2 (Dense)                (None, 64, 64)       8256        ['dropout[0][0]']                \n",
      "                                                                                                  \n",
      " dropout_1 (Dropout)            (None, 64, 64)       0           ['dense_2[0][0]']                \n",
      "                                                                                                  \n",
      " add_1 (Add)                    (None, 64, 64)       0           ['dropout_1[0][0]',              \n",
      "                                                                  'add[0][0]']                    \n",
      "                                                                                                  \n",
      " layer_normalization_2 (LayerNo  (None, 64, 64)      128         ['add_1[0][0]']                  \n",
      " rmalization)                                                                                     \n",
      "                                                                                                  \n",
      " multi_head_attention_1 (MultiH  (None, 64, 64)      66368       ['layer_normalization_2[0][0]',  \n"
     ]
    },
    {
     "name": "stdout",
     "output_type": "stream",
     "text": [
      " eadAttention)                                                    'layer_normalization_2[0][0]']  \n",
      "                                                                                                  \n",
      " add_2 (Add)                    (None, 64, 64)       0           ['multi_head_attention_1[0][0]', \n",
      "                                                                  'add_1[0][0]']                  \n",
      "                                                                                                  \n",
      " layer_normalization_3 (LayerNo  (None, 64, 64)      128         ['add_2[0][0]']                  \n",
      " rmalization)                                                                                     \n",
      "                                                                                                  \n",
      " dense_3 (Dense)                (None, 64, 128)      8320        ['layer_normalization_3[0][0]']  \n",
      "                                                                                                  \n",
      " dropout_2 (Dropout)            (None, 64, 128)      0           ['dense_3[0][0]']                \n",
      "                                                                                                  \n",
      " dense_4 (Dense)                (None, 64, 64)       8256        ['dropout_2[0][0]']              \n",
      "                                                                                                  \n",
      " dropout_3 (Dropout)            (None, 64, 64)       0           ['dense_4[0][0]']                \n",
      "                                                                                                  \n",
      " add_3 (Add)                    (None, 64, 64)       0           ['dropout_3[0][0]',              \n",
      "                                                                  'add_2[0][0]']                  \n",
      "                                                                                                  \n",
      " layer_normalization_4 (LayerNo  (None, 64, 64)      128         ['add_3[0][0]']                  \n",
      " rmalization)                                                                                     \n",
      "                                                                                                  \n",
      " multi_head_attention_2 (MultiH  (None, 64, 64)      66368       ['layer_normalization_4[0][0]',  \n",
      " eadAttention)                                                    'layer_normalization_4[0][0]']  \n",
      "                                                                                                  \n",
      " add_4 (Add)                    (None, 64, 64)       0           ['multi_head_attention_2[0][0]', \n",
      "                                                                  'add_3[0][0]']                  \n",
      "                                                                                                  \n",
      " layer_normalization_5 (LayerNo  (None, 64, 64)      128         ['add_4[0][0]']                  \n",
      " rmalization)                                                                                     \n",
      "                                                                                                  \n",
      " dense_5 (Dense)                (None, 64, 128)      8320        ['layer_normalization_5[0][0]']  \n",
      "                                                                                                  \n",
      " dropout_4 (Dropout)            (None, 64, 128)      0           ['dense_5[0][0]']                \n",
      "                                                                                                  \n",
      " dense_6 (Dense)                (None, 64, 64)       8256        ['dropout_4[0][0]']              \n",
      "                                                                                                  \n",
      " dropout_5 (Dropout)            (None, 64, 64)       0           ['dense_6[0][0]']                \n",
      "                                                                                                  \n",
      " add_5 (Add)                    (None, 64, 64)       0           ['dropout_5[0][0]',              \n",
      "                                                                  'add_4[0][0]']                  \n",
      "                                                                                                  \n",
      " layer_normalization_6 (LayerNo  (None, 64, 64)      128         ['add_5[0][0]']                  \n",
      " rmalization)                                                                                     \n",
      "                                                                                                  \n",
      " multi_head_attention_3 (MultiH  (None, 64, 64)      66368       ['layer_normalization_6[0][0]',  \n",
      " eadAttention)                                                    'layer_normalization_6[0][0]']  \n",
      "                                                                                                  \n",
      " add_6 (Add)                    (None, 64, 64)       0           ['multi_head_attention_3[0][0]', \n",
      "                                                                  'add_5[0][0]']                  \n",
      "                                                                                                  \n",
      " layer_normalization_7 (LayerNo  (None, 64, 64)      128         ['add_6[0][0]']                  \n",
      " rmalization)                                                                                     \n",
      "                                                                                                  \n",
      " dense_7 (Dense)                (None, 64, 128)      8320        ['layer_normalization_7[0][0]']  \n",
      "                                                                                                  \n",
      " dropout_6 (Dropout)            (None, 64, 128)      0           ['dense_7[0][0]']                \n",
      "                                                                                                  \n",
      " dense_8 (Dense)                (None, 64, 64)       8256        ['dropout_6[0][0]']              \n",
      "                                                                                                  \n",
      " dropout_7 (Dropout)            (None, 64, 64)       0           ['dense_8[0][0]']                \n",
      "                                                                                                  \n",
      " add_7 (Add)                    (None, 64, 64)       0           ['dropout_7[0][0]',              \n",
      "                                                                  'add_6[0][0]']                  \n",
      "                                                                                                  \n",
      " layer_normalization_8 (LayerNo  (None, 64, 64)      128         ['add_7[0][0]']                  \n",
      " rmalization)                                                                                     \n",
      "                                                                                                  \n",
      " multi_head_attention_4 (MultiH  (None, 64, 64)      66368       ['layer_normalization_8[0][0]',  \n",
      " eadAttention)                                                    'layer_normalization_8[0][0]']  \n",
      "                                                                                                  \n",
      " add_8 (Add)                    (None, 64, 64)       0           ['multi_head_attention_4[0][0]', \n",
      "                                                                  'add_7[0][0]']                  \n",
      "                                                                                                  \n",
      " layer_normalization_9 (LayerNo  (None, 64, 64)      128         ['add_8[0][0]']                  \n",
      " rmalization)                                                                                     \n",
      "                                                                                                  \n",
      " dense_9 (Dense)                (None, 64, 128)      8320        ['layer_normalization_9[0][0]']  \n",
      "                                                                                                  \n",
      " dropout_8 (Dropout)            (None, 64, 128)      0           ['dense_9[0][0]']                \n",
      "                                                                                                  \n",
      " dense_10 (Dense)               (None, 64, 64)       8256        ['dropout_8[0][0]']              \n",
      "                                                                                                  \n"
     ]
    },
    {
     "name": "stdout",
     "output_type": "stream",
     "text": [
      " dropout_9 (Dropout)            (None, 64, 64)       0           ['dense_10[0][0]']               \n",
      "                                                                                                  \n",
      " add_9 (Add)                    (None, 64, 64)       0           ['dropout_9[0][0]',              \n",
      "                                                                  'add_8[0][0]']                  \n",
      "                                                                                                  \n",
      " layer_normalization_10 (LayerN  (None, 64, 64)      128         ['add_9[0][0]']                  \n",
      " ormalization)                                                                                    \n",
      "                                                                                                  \n",
      " multi_head_attention_5 (MultiH  (None, 64, 64)      66368       ['layer_normalization_10[0][0]', \n",
      " eadAttention)                                                    'layer_normalization_10[0][0]'] \n",
      "                                                                                                  \n",
      " add_10 (Add)                   (None, 64, 64)       0           ['multi_head_attention_5[0][0]', \n",
      "                                                                  'add_9[0][0]']                  \n",
      "                                                                                                  \n",
      " layer_normalization_11 (LayerN  (None, 64, 64)      128         ['add_10[0][0]']                 \n",
      " ormalization)                                                                                    \n",
      "                                                                                                  \n",
      " dense_11 (Dense)               (None, 64, 128)      8320        ['layer_normalization_11[0][0]'] \n",
      "                                                                                                  \n",
      " dropout_10 (Dropout)           (None, 64, 128)      0           ['dense_11[0][0]']               \n",
      "                                                                                                  \n",
      " dense_12 (Dense)               (None, 64, 64)       8256        ['dropout_10[0][0]']             \n",
      "                                                                                                  \n",
      " dropout_11 (Dropout)           (None, 64, 64)       0           ['dense_12[0][0]']               \n",
      "                                                                                                  \n",
      " add_11 (Add)                   (None, 64, 64)       0           ['dropout_11[0][0]',             \n",
      "                                                                  'add_10[0][0]']                 \n",
      "                                                                                                  \n",
      " layer_normalization_12 (LayerN  (None, 64, 64)      128         ['add_11[0][0]']                 \n",
      " ormalization)                                                                                    \n",
      "                                                                                                  \n",
      " multi_head_attention_6 (MultiH  (None, 64, 64)      66368       ['layer_normalization_12[0][0]', \n",
      " eadAttention)                                                    'layer_normalization_12[0][0]'] \n",
      "                                                                                                  \n",
      " add_12 (Add)                   (None, 64, 64)       0           ['multi_head_attention_6[0][0]', \n",
      "                                                                  'add_11[0][0]']                 \n",
      "                                                                                                  \n",
      " layer_normalization_13 (LayerN  (None, 64, 64)      128         ['add_12[0][0]']                 \n",
      " ormalization)                                                                                    \n",
      "                                                                                                  \n",
      " dense_13 (Dense)               (None, 64, 128)      8320        ['layer_normalization_13[0][0]'] \n",
      "                                                                                                  \n",
      " dropout_12 (Dropout)           (None, 64, 128)      0           ['dense_13[0][0]']               \n",
      "                                                                                                  \n",
      " dense_14 (Dense)               (None, 64, 64)       8256        ['dropout_12[0][0]']             \n",
      "                                                                                                  \n",
      " dropout_13 (Dropout)           (None, 64, 64)       0           ['dense_14[0][0]']               \n",
      "                                                                                                  \n",
      " add_13 (Add)                   (None, 64, 64)       0           ['dropout_13[0][0]',             \n",
      "                                                                  'add_12[0][0]']                 \n",
      "                                                                                                  \n",
      " layer_normalization_14 (LayerN  (None, 64, 64)      128         ['add_13[0][0]']                 \n",
      " ormalization)                                                                                    \n",
      "                                                                                                  \n",
      " multi_head_attention_7 (MultiH  (None, 64, 64)      66368       ['layer_normalization_14[0][0]', \n",
      " eadAttention)                                                    'layer_normalization_14[0][0]'] \n",
      "                                                                                                  \n",
      " add_14 (Add)                   (None, 64, 64)       0           ['multi_head_attention_7[0][0]', \n",
      "                                                                  'add_13[0][0]']                 \n",
      "                                                                                                  \n",
      " layer_normalization_15 (LayerN  (None, 64, 64)      128         ['add_14[0][0]']                 \n",
      " ormalization)                                                                                    \n",
      "                                                                                                  \n",
      " dense_15 (Dense)               (None, 64, 128)      8320        ['layer_normalization_15[0][0]'] \n",
      "                                                                                                  \n",
      " dropout_14 (Dropout)           (None, 64, 128)      0           ['dense_15[0][0]']               \n",
      "                                                                                                  \n",
      " dense_16 (Dense)               (None, 64, 64)       8256        ['dropout_14[0][0]']             \n",
      "                                                                                                  \n",
      " dropout_15 (Dropout)           (None, 64, 64)       0           ['dense_16[0][0]']               \n",
      "                                                                                                  \n",
      " add_15 (Add)                   (None, 64, 64)       0           ['dropout_15[0][0]',             \n",
      "                                                                  'add_14[0][0]']                 \n",
      "                                                                                                  \n",
      " layer_normalization_16 (LayerN  (None, 64, 64)      128         ['add_15[0][0]']                 \n",
      " ormalization)                                                                                    \n",
      "                                                                                                  \n",
      " flatten (Flatten)              (None, 4096)         0           ['layer_normalization_16[0][0]'] \n",
      "                                                                                                  \n",
      " dropout_16 (Dropout)           (None, 4096)         0           ['flatten[0][0]']                \n",
      "                                                                                                  \n",
      " dense_17 (Dense)               (None, 2048)         8390656     ['dropout_16[0][0]']             \n",
      "                                                                                                  \n"
     ]
    },
    {
     "name": "stdout",
     "output_type": "stream",
     "text": [
      " dropout_17 (Dropout)           (None, 2048)         0           ['dense_17[0][0]']               \n",
      "                                                                                                  \n",
      " dense_18 (Dense)               (None, 1024)         2098176     ['dropout_17[0][0]']             \n",
      "                                                                                                  \n",
      " dropout_18 (Dropout)           (None, 1024)         0           ['dense_18[0][0]']               \n",
      "                                                                                                  \n",
      " dense_19 (Dense)               (None, 2)            2050        ['dropout_18[0][0]']             \n",
      "                                                                                                  \n",
      "==================================================================================================\n",
      "Total params: 11,357,385\n",
      "Trainable params: 11,357,378\n",
      "Non-trainable params: 7\n",
      "__________________________________________________________________________________________________\n"
     ]
    }
   ],
   "source": [
    "def run_vit(model):\n",
    "    optimizer = tfa.optimizers.AdamW(\n",
    "        learning_rate=learning_rate, weight_decay=weight_decay\n",
    "    )\n",
    "\n",
    "    model.compile(\n",
    "        optimizer=optimizer,\n",
    "        loss=keras.losses.SparseCategoricalCrossentropy(from_logits=True),\n",
    "        metrics=[\n",
    "            keras.metrics.SparseCategoricalAccuracy(name=\"accuracy\"),\n",
    "            keras.metrics.SparseTopKCategoricalAccuracy(5, name=\"top-5-accuracy\"),\n",
    "        ],\n",
    "    )\n",
    "\n",
    "    checkpoint_filepath = \"/tmp/checkpoint\"\n",
    "    checkpoint_callback = keras.callbacks.ModelCheckpoint(\n",
    "        checkpoint_filepath,\n",
    "        monitor=\"val_accuracy\",\n",
    "        save_best_only=True,\n",
    "        save_weights_only=True,\n",
    "    )\n",
    "\n",
    "    history = model.fit(\n",
    "        x=X_train,\n",
    "        y=y_train,\n",
    "        batch_size=batch_size,\n",
    "        epochs=num_epochs,\n",
    "        #validation_split=0.1,\n",
    "        validation_data=(X_test, y_test),\n",
    "        callbacks=[checkpoint_callback],\n",
    "    )\n",
    "\n",
    "    #model.load_weights(checkpoint_filepath)\n",
    "    #_, accuracy, top_5_accuracy = model.evaluate(X_test, y_test)\n",
    "    #print(f\"Test accuracy: {round(accuracy * 100, 2)}%\")\n",
    "    #print(f\"Test top 5 accuracy: {round(top_5_accuracy * 100, 2)}%\")\n",
    "\n",
    "    return history\n",
    "\n",
    "\n",
    "vit_classifier = create_vit_classifier()\n",
    "vit_classifier.summary()\n",
    "\n"
   ]
  },
  {
   "cell_type": "code",
   "execution_count": 14,
   "metadata": {
    "id": "rDUmwczu1Nhq"
   },
   "outputs": [
    {
     "name": "stdout",
     "output_type": "stream",
     "text": [
      "Epoch 1/50\n",
      "WARNING:tensorflow:Using a while_loop for converting RngReadAndSkip cause there is no registered converter for this op.\n",
      "WARNING:tensorflow:Using a while_loop for converting Bitcast cause there is no registered converter for this op.\n",
      "WARNING:tensorflow:Using a while_loop for converting Bitcast cause there is no registered converter for this op.\n",
      "WARNING:tensorflow:Using a while_loop for converting StatelessRandomUniformV2 cause there is no registered converter for this op.\n",
      "WARNING:tensorflow:Using a while_loop for converting RngReadAndSkip cause there is no registered converter for this op.\n",
      "WARNING:tensorflow:Using a while_loop for converting Bitcast cause there is no registered converter for this op.\n",
      "WARNING:tensorflow:Using a while_loop for converting Bitcast cause there is no registered converter for this op.\n",
      "WARNING:tensorflow:Using a while_loop for converting StatelessRandomUniformV2 cause there is no registered converter for this op.\n",
      "WARNING:tensorflow:Using a while_loop for converting ImageProjectiveTransformV3 cause there is no registered converter for this op.\n",
      "WARNING:tensorflow:Using a while_loop for converting RngReadAndSkip cause there is no registered converter for this op.\n",
      "WARNING:tensorflow:Using a while_loop for converting Bitcast cause there is no registered converter for this op.\n",
      "WARNING:tensorflow:Using a while_loop for converting Bitcast cause there is no registered converter for this op.\n",
      "WARNING:tensorflow:Using a while_loop for converting StatelessRandomUniformV2 cause there is no registered converter for this op.\n",
      "WARNING:tensorflow:Using a while_loop for converting RngReadAndSkip cause there is no registered converter for this op.\n",
      "WARNING:tensorflow:Using a while_loop for converting Bitcast cause there is no registered converter for this op.\n",
      "WARNING:tensorflow:Using a while_loop for converting Bitcast cause there is no registered converter for this op.\n",
      "WARNING:tensorflow:Using a while_loop for converting StatelessRandomUniformV2 cause there is no registered converter for this op.\n",
      "WARNING:tensorflow:Using a while_loop for converting ImageProjectiveTransformV3 cause there is no registered converter for this op.\n",
      "WARNING:tensorflow:Using a while_loop for converting RngReadAndSkip cause there is no registered converter for this op.\n",
      "WARNING:tensorflow:Using a while_loop for converting Bitcast cause there is no registered converter for this op.\n",
      "WARNING:tensorflow:Using a while_loop for converting Bitcast cause there is no registered converter for this op.\n",
      "WARNING:tensorflow:Using a while_loop for converting StatelessRandomUniformV2 cause there is no registered converter for this op.\n",
      "WARNING:tensorflow:Using a while_loop for converting RngReadAndSkip cause there is no registered converter for this op.\n",
      "WARNING:tensorflow:Using a while_loop for converting Bitcast cause there is no registered converter for this op.\n",
      "WARNING:tensorflow:Using a while_loop for converting Bitcast cause there is no registered converter for this op.\n",
      "WARNING:tensorflow:Using a while_loop for converting StatelessRandomUniformV2 cause there is no registered converter for this op.\n",
      "WARNING:tensorflow:Using a while_loop for converting ImageProjectiveTransformV3 cause there is no registered converter for this op.\n",
      "WARNING:tensorflow:Using a while_loop for converting RngReadAndSkip cause there is no registered converter for this op.\n",
      "WARNING:tensorflow:Using a while_loop for converting Bitcast cause there is no registered converter for this op.\n",
      "WARNING:tensorflow:Using a while_loop for converting Bitcast cause there is no registered converter for this op.\n",
      "WARNING:tensorflow:Using a while_loop for converting StatelessRandomUniformV2 cause there is no registered converter for this op.\n",
      "WARNING:tensorflow:Using a while_loop for converting RngReadAndSkip cause there is no registered converter for this op.\n",
      "WARNING:tensorflow:Using a while_loop for converting Bitcast cause there is no registered converter for this op.\n",
      "WARNING:tensorflow:Using a while_loop for converting Bitcast cause there is no registered converter for this op.\n",
      "WARNING:tensorflow:Using a while_loop for converting StatelessRandomUniformV2 cause there is no registered converter for this op.\n",
      "WARNING:tensorflow:Using a while_loop for converting ImageProjectiveTransformV3 cause there is no registered converter for this op.\n",
      "12/12 [==============================] - 64s 4s/step - loss: 2.8850 - accuracy: 0.5391 - top-5-accuracy: 1.0000 - val_loss: 1.4391 - val_accuracy: 0.4915 - val_top-5-accuracy: 1.0000\n",
      "Epoch 2/50\n",
      "12/12 [==============================] - 50s 4s/step - loss: 0.8380 - accuracy: 0.5454 - top-5-accuracy: 1.0000 - val_loss: 1.6569 - val_accuracy: 0.4886 - val_top-5-accuracy: 1.0000\n",
      "Epoch 3/50\n",
      "12/12 [==============================] - 48s 4s/step - loss: 0.7487 - accuracy: 0.5695 - top-5-accuracy: 1.0000 - val_loss: 1.5753 - val_accuracy: 0.4815 - val_top-5-accuracy: 1.0000\n",
      "Epoch 4/50\n",
      "12/12 [==============================] - 49s 4s/step - loss: 0.7127 - accuracy: 0.5590 - top-5-accuracy: 1.0000 - val_loss: 1.5079 - val_accuracy: 0.4801 - val_top-5-accuracy: 1.0000\n",
      "Epoch 5/50\n",
      "12/12 [==============================] - 51s 4s/step - loss: 0.6902 - accuracy: 0.5720 - top-5-accuracy: 1.0000 - val_loss: 1.4502 - val_accuracy: 0.4943 - val_top-5-accuracy: 1.0000\n",
      "Epoch 6/50\n",
      "12/12 [==============================] - 54s 5s/step - loss: 0.6868 - accuracy: 0.5765 - top-5-accuracy: 1.0000 - val_loss: 1.4066 - val_accuracy: 0.4929 - val_top-5-accuracy: 1.0000\n",
      "Epoch 7/50\n",
      "12/12 [==============================] - 49s 4s/step - loss: 0.6826 - accuracy: 0.5646 - top-5-accuracy: 1.0000 - val_loss: 1.3854 - val_accuracy: 0.4688 - val_top-5-accuracy: 1.0000\n",
      "Epoch 8/50\n",
      "12/12 [==============================] - 48s 4s/step - loss: 0.6724 - accuracy: 0.5874 - top-5-accuracy: 1.0000 - val_loss: 1.3946 - val_accuracy: 0.4759 - val_top-5-accuracy: 1.0000\n",
      "Epoch 9/50\n",
      "12/12 [==============================] - 49s 4s/step - loss: 0.6795 - accuracy: 0.5947 - top-5-accuracy: 1.0000 - val_loss: 1.3644 - val_accuracy: 0.4759 - val_top-5-accuracy: 1.0000\n",
      "Epoch 10/50\n",
      "12/12 [==============================] - 52s 4s/step - loss: 0.6661 - accuracy: 0.5842 - top-5-accuracy: 1.0000 - val_loss: 1.3628 - val_accuracy: 0.4773 - val_top-5-accuracy: 1.0000\n",
      "Epoch 11/50\n",
      "12/12 [==============================] - 51s 4s/step - loss: 0.6703 - accuracy: 0.5874 - top-5-accuracy: 1.0000 - val_loss: 1.3590 - val_accuracy: 0.4929 - val_top-5-accuracy: 1.0000\n",
      "Epoch 12/50\n",
      "12/12 [==============================] - 52s 4s/step - loss: 0.6632 - accuracy: 0.5853 - top-5-accuracy: 1.0000 - val_loss: 1.3339 - val_accuracy: 0.5043 - val_top-5-accuracy: 1.0000\n",
      "Epoch 13/50\n",
      "12/12 [==============================] - 47s 4s/step - loss: 0.6635 - accuracy: 0.5790 - top-5-accuracy: 1.0000 - val_loss: 1.3407 - val_accuracy: 0.5043 - val_top-5-accuracy: 1.0000\n",
      "Epoch 14/50\n",
      "12/12 [==============================] - 48s 4s/step - loss: 0.6624 - accuracy: 0.5842 - top-5-accuracy: 1.0000 - val_loss: 1.3205 - val_accuracy: 0.4773 - val_top-5-accuracy: 1.0000\n",
      "Epoch 15/50\n",
      "12/12 [==============================] - 53s 4s/step - loss: 0.6589 - accuracy: 0.5912 - top-5-accuracy: 1.0000 - val_loss: 1.2994 - val_accuracy: 0.4858 - val_top-5-accuracy: 1.0000\n",
      "Epoch 16/50\n",
      "12/12 [==============================] - 51s 4s/step - loss: 0.6641 - accuracy: 0.5863 - top-5-accuracy: 1.0000 - val_loss: 1.2522 - val_accuracy: 0.5000 - val_top-5-accuracy: 1.0000\n",
      "Epoch 17/50\n",
      "12/12 [==============================] - 54s 5s/step - loss: 0.6617 - accuracy: 0.5846 - top-5-accuracy: 1.0000 - val_loss: 1.2400 - val_accuracy: 0.4929 - val_top-5-accuracy: 1.0000\n",
      "Epoch 18/50\n",
      "12/12 [==============================] - 50s 4s/step - loss: 0.6533 - accuracy: 0.5975 - top-5-accuracy: 1.0000 - val_loss: 1.1899 - val_accuracy: 0.4972 - val_top-5-accuracy: 1.0000\n",
      "Epoch 19/50\n",
      "12/12 [==============================] - 47s 4s/step - loss: 0.6594 - accuracy: 0.6003 - top-5-accuracy: 1.0000 - val_loss: 1.1839 - val_accuracy: 0.4943 - val_top-5-accuracy: 1.0000\n",
      "Epoch 20/50\n",
      "12/12 [==============================] - 50s 4s/step - loss: 0.6651 - accuracy: 0.5832 - top-5-accuracy: 1.0000 - val_loss: 1.1849 - val_accuracy: 0.4815 - val_top-5-accuracy: 1.0000\n"
     ]
    },
    {
     "name": "stdout",
     "output_type": "stream",
     "text": [
      "Epoch 21/50\n",
      "12/12 [==============================] - 54s 5s/step - loss: 0.6581 - accuracy: 0.5947 - top-5-accuracy: 1.0000 - val_loss: 1.1636 - val_accuracy: 0.5099 - val_top-5-accuracy: 1.0000\n",
      "Epoch 22/50\n",
      "12/12 [==============================] - 52s 4s/step - loss: 0.6619 - accuracy: 0.5891 - top-5-accuracy: 1.0000 - val_loss: 1.0973 - val_accuracy: 0.4986 - val_top-5-accuracy: 1.0000\n",
      "Epoch 23/50\n",
      "12/12 [==============================] - 51s 4s/step - loss: 0.6580 - accuracy: 0.5835 - top-5-accuracy: 1.0000 - val_loss: 1.0736 - val_accuracy: 0.5114 - val_top-5-accuracy: 1.0000\n",
      "Epoch 24/50\n",
      "12/12 [==============================] - 51s 4s/step - loss: 0.6582 - accuracy: 0.5940 - top-5-accuracy: 1.0000 - val_loss: 1.0499 - val_accuracy: 0.4787 - val_top-5-accuracy: 1.0000\n",
      "Epoch 25/50\n",
      "12/12 [==============================] - 49s 4s/step - loss: 0.6510 - accuracy: 0.6031 - top-5-accuracy: 1.0000 - val_loss: 1.0645 - val_accuracy: 0.4929 - val_top-5-accuracy: 1.0000\n",
      "Epoch 26/50\n",
      "12/12 [==============================] - 46s 4s/step - loss: 0.6594 - accuracy: 0.5978 - top-5-accuracy: 1.0000 - val_loss: 1.0284 - val_accuracy: 0.4901 - val_top-5-accuracy: 1.0000\n",
      "Epoch 27/50\n",
      "12/12 [==============================] - 46s 4s/step - loss: 0.6598 - accuracy: 0.6041 - top-5-accuracy: 1.0000 - val_loss: 1.0194 - val_accuracy: 0.4844 - val_top-5-accuracy: 1.0000\n",
      "Epoch 28/50\n",
      "12/12 [==============================] - 49s 4s/step - loss: 0.6642 - accuracy: 0.5867 - top-5-accuracy: 1.0000 - val_loss: 1.0557 - val_accuracy: 0.4929 - val_top-5-accuracy: 1.0000\n",
      "Epoch 29/50\n",
      "12/12 [==============================] - 48s 4s/step - loss: 0.6539 - accuracy: 0.5870 - top-5-accuracy: 1.0000 - val_loss: 0.9905 - val_accuracy: 0.4901 - val_top-5-accuracy: 1.0000\n",
      "Epoch 30/50\n",
      "12/12 [==============================] - 47s 4s/step - loss: 0.6599 - accuracy: 0.5961 - top-5-accuracy: 1.0000 - val_loss: 0.9770 - val_accuracy: 0.4815 - val_top-5-accuracy: 1.0000\n",
      "Epoch 31/50\n",
      "12/12 [==============================] - 47s 4s/step - loss: 0.6494 - accuracy: 0.5947 - top-5-accuracy: 1.0000 - val_loss: 0.8972 - val_accuracy: 0.5043 - val_top-5-accuracy: 1.0000\n",
      "Epoch 32/50\n",
      "12/12 [==============================] - 48s 4s/step - loss: 0.6458 - accuracy: 0.6027 - top-5-accuracy: 1.0000 - val_loss: 0.8735 - val_accuracy: 0.4858 - val_top-5-accuracy: 1.0000\n",
      "Epoch 33/50\n",
      "12/12 [==============================] - 48s 4s/step - loss: 0.6543 - accuracy: 0.6045 - top-5-accuracy: 1.0000 - val_loss: 0.8472 - val_accuracy: 0.4972 - val_top-5-accuracy: 1.0000\n",
      "Epoch 34/50\n",
      "12/12 [==============================] - 47s 4s/step - loss: 0.6525 - accuracy: 0.5992 - top-5-accuracy: 1.0000 - val_loss: 0.8767 - val_accuracy: 0.4986 - val_top-5-accuracy: 1.0000\n",
      "Epoch 35/50\n",
      "12/12 [==============================] - 47s 4s/step - loss: 0.6560 - accuracy: 0.6003 - top-5-accuracy: 1.0000 - val_loss: 0.7966 - val_accuracy: 0.5085 - val_top-5-accuracy: 1.0000\n",
      "Epoch 36/50\n",
      "12/12 [==============================] - 47s 4s/step - loss: 0.6479 - accuracy: 0.6017 - top-5-accuracy: 1.0000 - val_loss: 0.7873 - val_accuracy: 0.5028 - val_top-5-accuracy: 1.0000\n",
      "Epoch 37/50\n",
      "12/12 [==============================] - 49s 4s/step - loss: 0.6498 - accuracy: 0.6157 - top-5-accuracy: 1.0000 - val_loss: 0.8067 - val_accuracy: 0.4872 - val_top-5-accuracy: 1.0000\n",
      "Epoch 38/50\n",
      "12/12 [==============================] - 47s 4s/step - loss: 0.6558 - accuracy: 0.5954 - top-5-accuracy: 1.0000 - val_loss: 0.7997 - val_accuracy: 0.4815 - val_top-5-accuracy: 1.0000\n",
      "Epoch 39/50\n",
      "12/12 [==============================] - 47s 4s/step - loss: 0.6481 - accuracy: 0.5954 - top-5-accuracy: 1.0000 - val_loss: 0.8105 - val_accuracy: 0.5057 - val_top-5-accuracy: 1.0000\n",
      "Epoch 40/50\n",
      "12/12 [==============================] - 47s 4s/step - loss: 0.6431 - accuracy: 0.5964 - top-5-accuracy: 1.0000 - val_loss: 0.8046 - val_accuracy: 0.4858 - val_top-5-accuracy: 1.0000\n",
      "Epoch 41/50\n",
      "12/12 [==============================] - 48s 4s/step - loss: 0.6451 - accuracy: 0.5940 - top-5-accuracy: 1.0000 - val_loss: 0.8381 - val_accuracy: 0.4886 - val_top-5-accuracy: 1.0000\n",
      "Epoch 42/50\n",
      "12/12 [==============================] - 49s 4s/step - loss: 0.6434 - accuracy: 0.6184 - top-5-accuracy: 1.0000 - val_loss: 0.8883 - val_accuracy: 0.4844 - val_top-5-accuracy: 1.0000\n",
      "Epoch 43/50\n",
      "12/12 [==============================] - 48s 4s/step - loss: 0.6362 - accuracy: 0.6181 - top-5-accuracy: 1.0000 - val_loss: 0.9061 - val_accuracy: 0.4972 - val_top-5-accuracy: 1.0000\n",
      "Epoch 44/50\n",
      "12/12 [==============================] - 45s 4s/step - loss: 0.6434 - accuracy: 0.5982 - top-5-accuracy: 1.0000 - val_loss: 0.8763 - val_accuracy: 0.4886 - val_top-5-accuracy: 1.0000\n",
      "Epoch 45/50\n",
      "12/12 [==============================] - 46s 4s/step - loss: 0.6353 - accuracy: 0.6104 - top-5-accuracy: 1.0000 - val_loss: 0.9079 - val_accuracy: 0.4830 - val_top-5-accuracy: 1.0000\n",
      "Epoch 46/50\n",
      "12/12 [==============================] - 47s 4s/step - loss: 0.6326 - accuracy: 0.6146 - top-5-accuracy: 1.0000 - val_loss: 0.8814 - val_accuracy: 0.4759 - val_top-5-accuracy: 1.0000\n",
      "Epoch 47/50\n",
      "12/12 [==============================] - 48s 4s/step - loss: 0.6369 - accuracy: 0.5898 - top-5-accuracy: 1.0000 - val_loss: 0.9630 - val_accuracy: 0.5028 - val_top-5-accuracy: 1.0000\n",
      "Epoch 48/50\n",
      "12/12 [==============================] - 46s 4s/step - loss: 0.6317 - accuracy: 0.6132 - top-5-accuracy: 1.0000 - val_loss: 0.9491 - val_accuracy: 0.5000 - val_top-5-accuracy: 1.0000\n",
      "Epoch 49/50\n",
      "12/12 [==============================] - 46s 4s/step - loss: 0.6383 - accuracy: 0.6181 - top-5-accuracy: 1.0000 - val_loss: 0.9026 - val_accuracy: 0.4844 - val_top-5-accuracy: 1.0000\n",
      "Epoch 50/50\n",
      "12/12 [==============================] - 47s 4s/step - loss: 0.6337 - accuracy: 0.6146 - top-5-accuracy: 1.0000 - val_loss: 0.9516 - val_accuracy: 0.5071 - val_top-5-accuracy: 1.0000\n"
     ]
    }
   ],
   "source": [
    "history = run_vit(vit_classifier)"
   ]
  },
  {
   "cell_type": "code",
   "execution_count": 15,
   "metadata": {
    "id": "jhfcfHOw1Nhq"
   },
   "outputs": [],
   "source": [
    "def create_vit_classifier_with_data_augmentation():\n",
    "    inputs = layers.Input(shape=input_shape)\n",
    "    # Augment data.\n",
    "    augmented = data_augmentation(inputs)\n",
    "    # Create patches.\n",
    "    patches = Patches(patch_size)(augmented)\n",
    "    # Encode patches.\n",
    "    encoded_patches = PatchEncoder(num_patches, projection_dim)(patches)\n",
    "\n",
    "    # Create multiple layers of the Transformer block.\n",
    "    for _ in range(transformer_layers):\n",
    "        # Layer normalization 1.\n",
    "        x1 = layers.LayerNormalization(epsilon=1e-6)(encoded_patches)\n",
    "        # Create a multi-head attention layer.\n",
    "        attention_output = layers.MultiHeadAttention(\n",
    "            num_heads=num_heads, key_dim=projection_dim, dropout=0.1\n",
    "        )(x1, x1)\n",
    "        # Skip connection 1.\n",
    "        x2 = layers.Add()([attention_output, encoded_patches])\n",
    "        # Layer normalization 2.\n",
    "        x3 = layers.LayerNormalization(epsilon=1e-6)(x2)\n",
    "        # MLP.\n",
    "        x3 = mlp(x3, hidden_units=transformer_units, dropout_rate=0.1)\n",
    "        # Skip connection 2.\n",
    "        encoded_patches = layers.Add()([x3, x2])\n",
    "\n",
    "    # Create a [batch_size, projection_dim] tensor.\n",
    "    representation = layers.LayerNormalization(epsilon=1e-6)(encoded_patches)\n",
    "    representation = layers.Flatten()(representation)\n",
    "    representation = layers.Dropout(0.5)(representation)\n",
    "    # Add MLP.\n",
    "    features = mlp(representation, hidden_units=mlp_head_units, dropout_rate=0.5)\n",
    "    # Classify outputs.\n",
    "    logits = layers.Dense(num_classes)(features)\n",
    "    # Create the Keras model.\n",
    "    model = keras.Model(inputs=inputs, outputs=logits)\n",
    "    return model"
   ]
  }
 ],
 "metadata": {
  "accelerator": "GPU",
  "colab": {
   "provenance": []
  },
  "gpuClass": "standard",
  "kernelspec": {
   "display_name": "Python 3",
   "language": "python",
   "name": "python3"
  },
  "language_info": {
   "codemirror_mode": {
    "name": "ipython",
    "version": 3
   },
   "file_extension": ".py",
   "mimetype": "text/x-python",
   "name": "python",
   "nbconvert_exporter": "python",
   "pygments_lexer": "ipython3",
   "version": "3.8.8"
  }
 },
 "nbformat": 4,
 "nbformat_minor": 1
}
